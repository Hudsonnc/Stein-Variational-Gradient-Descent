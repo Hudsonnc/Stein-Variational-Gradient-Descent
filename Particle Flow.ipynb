{
 "cells": [
  {
   "cell_type": "code",
   "execution_count": 250,
   "metadata": {
    "collapsed": true
   },
   "outputs": [],
   "source": [
    "import tensorflow as tf\n",
    "from tensorflow.contrib.layers import xavier_initializer\n",
    "import numpy as np\n",
    "from scipy.spatial.distance import pdist\n",
    "from scipy.stats import norm\n",
    "\n",
    "from matplotlib import pyplot as plt\n",
    "%matplotlib inline"
   ]
  },
  {
   "cell_type": "code",
   "execution_count": 189,
   "metadata": {},
   "outputs": [],
   "source": [
    "def med(Z):\n",
    "    A = tf.reshape(Z, (tf.shape(Z)[0], -1))\n",
    "    r = tf.reduce_sum(A*A, 1)\n",
    "    r = tf.reshape(r, [-1, 1])\n",
    "    psqdists = r - 2*tf.matmul(A, tf.transpose(A)) + tf.transpose(r)\n",
    "    return tf.contrib.distributions.percentile(psqdists, 50)\n",
    "\n",
    "def rbfBandwidth(Z):\n",
    "    h = tf.square(med(Z))/tf.log(tf.shape(Z, out_type=tf.float32)[0])\n",
    "    return(h)\n",
    "\n",
    "def rbf(zi, zj, h):\n",
    "    return(tf.exp(-tf.square(zi-zj)/h))\n",
    "\n",
    "def phi_star(Z, p, kernel):\n",
    "    phi_star_j = lambda zj: tf.multiply(kernel(zj, Z), tf.gradients(tf.log(p(zj)), [zj])) + tf.gradients(kernel(zj, Z), [zj])\n",
    "    arr = tf.map_fn(phi_star_j, Z)\n",
    "    return(tf.reduce_mean(arr, 0))"
   ]
  },
  {
   "cell_type": "code",
   "execution_count": 211,
   "metadata": {
    "collapsed": true
   },
   "outputs": [],
   "source": [
    "def CDF(X):\n",
    "    N = len(X)\n",
    "    Y = [n/float(N) for n in range(N)]\n",
    "    return(sorted(X), Y)"
   ]
  },
  {
   "cell_type": "code",
   "execution_count": 214,
   "metadata": {
    "collapsed": true
   },
   "outputs": [],
   "source": [
    "p = lambda z: (1/np.sqrt(2*np.pi))*tf.exp(-tf.square(z)/2)\n",
    "X = np.random.uniform(-1,1,100).astype('float32')\n",
    "X = tf.constant(X, shape = X.shape)"
   ]
  },
  {
   "cell_type": "code",
   "execution_count": 215,
   "metadata": {
    "scrolled": false
   },
   "outputs": [
    {
     "data": {
      "text/plain": [
       "[<matplotlib.lines.Line2D at 0x7f75599e0ba8>]"
      ]
     },
     "execution_count": 215,
     "metadata": {},
     "output_type": "execute_result"
    },
    {
     "data": {
      "image/png": "[encoded data removed]",
      "text/plain": [
       "<matplotlib.figure.Figure at 0x7f7559a67198>"
      ]
     },
     "metadata": {},
     "output_type": "display_data"
    }
   ],
   "source": [
    "cdf = CDF(X.eval(session=sess))\n",
    "plt.plot(cdf[0], cdf[1])"
   ]
  },
  {
   "cell_type": "code",
   "execution_count": 259,
   "metadata": {},
   "outputs": [],
   "source": [
    "h = rbfBandwidth(X)\n",
    "kernel = lambda xi, xj: rbf(xi, xj, h)"
   ]
  },
  {
   "cell_type": "code",
   "execution_count": 260,
   "metadata": {
    "scrolled": false
   },
   "outputs": [],
   "source": [
    "Xnew = tf.identity(X)\n",
    "for i in range(100):\n",
    "    h = rbfBandwidth(Xnew)\n",
    "    kernel = lambda xi, xj: rbf(xi, xj, h)\n",
    "    Xnew = Xnew + .01*phi_star(X, p, kernel)"
   ]
  },
  {
   "cell_type": "code",
   "execution_count": 261,
   "metadata": {},
   "outputs": [
    {
     "data": {
      "text/plain": [
       "[<matplotlib.lines.Line2D at 0x7f748d136710>]"
      ]
     },
     "execution_count": 261,
     "metadata": {},
     "output_type": "execute_result"
    },
    {
     "data": {
      "image/png": "[encoded data removed]",
      "text/plain": [
       "<matplotlib.figure.Figure at 0x7f748d2459b0>"
      ]
     },
     "metadata": {},
     "output_type": "display_data"
    }
   ],
   "source": [
    "cdf = CDF(Xnew.eval(session=sess))\n",
    "plt.plot(cdf[0], cdf[1])\n",
    "plt.plot(np.arange(-5,5,.1), norm.cdf(np.arange(-5,5,.1)))"
   ]
  },
  {
   "cell_type": "code",
   "execution_count": 262,
   "metadata": {},
   "outputs": [
    {
     "data": {
      "text/plain": [
       "-0.0034591318"
      ]
     },
     "execution_count": 262,
     "metadata": {},
     "output_type": "execute_result"
    }
   ],
   "source": [
    "np.mean(Xnew.eval(session=sess))"
   ]
  },
  {
   "cell_type": "code",
   "execution_count": 266,
   "metadata": {},
   "outputs": [
    {
     "data": {
      "text/plain": [
       "0.45487237"
      ]
     },
     "execution_count": 266,
     "metadata": {},
     "output_type": "execute_result"
    }
   ],
   "source": [
    "np.std(Xnew.eval(session=sess))"
   ]
  },
  {
   "cell_type": "code",
   "execution_count": 264,
   "metadata": {},
   "outputs": [
    {
     "data": {
      "text/plain": [
       "<matplotlib.collections.PathCollection at 0x7f7489431c18>"
      ]
     },
     "execution_count": 264,
     "metadata": {},
     "output_type": "execute_result"
    },
    {
     "data": {
      "image/png": "[encoded data removed]",
      "text/plain": [
       "<matplotlib.figure.Figure at 0x7f748d245588>"
      ]
     },
     "metadata": {},
     "output_type": "display_data"
    }
   ],
   "source": [
    "plt.scatter(X.eval(session=sess), Xnew.eval(session=sess))"
   ]
  },
  {
   "cell_type": "code",
   "execution_count": null,
   "metadata": {
    "collapsed": true
   },
   "outputs": [],
   "source": []
  }
 ],
 "metadata": {
  "kernelspec": {
   "display_name": "Python [conda env:tensorflow]",
   "language": "python",
   "name": "conda-env-tensorflow-py"
  },
  "language_info": {
   "codemirror_mode": {
    "name": "ipython",
    "version": 3
   },
   "file_extension": ".py",
   "mimetype": "text/x-python",
   "name": "python",
   "nbconvert_exporter": "python",
   "pygments_lexer": "ipython3",
   "version": "3.6.1"
  }
 },
 "nbformat": 4,
 "nbformat_minor": 2
}
